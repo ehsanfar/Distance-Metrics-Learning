{
  "nbformat": 4,
  "nbformat_minor": 0,
  "metadata": {
    "colab": {
      "name": "distance_metrics_learning.ipynb",
      "provenance": []
    },
    "kernelspec": {
      "name": "python3",
      "display_name": "Python 3"
    },
    "language_info": {
      "name": "python"
    }
  },
  "cells": [
    {
      "cell_type": "code",
      "metadata": {
        "id": "Wa2gP8taBKm4"
      },
      "source": [
        ""
      ],
      "execution_count": null,
      "outputs": []
    },
    {
      "cell_type": "code",
      "metadata": {
        "id": "Rk-fcpechcCs",
        "colab": {
          "base_uri": "https://localhost:8080/"
        },
        "outputId": "c81e387a-aba2-49c9-9734-71f3e18011ba"
      },
      "source": [
        "# !pip install --upgrade xgboost\n",
        "# !pip install s3fs\n",
        "# !pip install --upgrade pandas\n",
        "# !pip install --upgrade fsspec\n",
        "# ! pip install lightgbm\n",
        "!pip install --upgrade scikit-multilearn\n",
        "!pip install arff"
      ],
      "execution_count": null,
      "outputs": [
        {
          "output_type": "stream",
          "text": [
            "Collecting scikit-multilearn\n",
            "\u001b[?25l  Downloading https://files.pythonhosted.org/packages/bb/1f/e6ff649c72a1cdf2c7a1d31eb21705110ce1c5d3e7e26b2cc300e1637272/scikit_multilearn-0.2.0-py3-none-any.whl (89kB)\n",
            "\r\u001b[K     |███▊                            | 10kB 14.7MB/s eta 0:00:01\r\u001b[K     |███████▍                        | 20kB 20.2MB/s eta 0:00:01\r\u001b[K     |███████████                     | 30kB 14.1MB/s eta 0:00:01\r\u001b[K     |██████████████▊                 | 40kB 10.6MB/s eta 0:00:01\r\u001b[K     |██████████████████▍             | 51kB 7.4MB/s eta 0:00:01\r\u001b[K     |██████████████████████          | 61kB 8.6MB/s eta 0:00:01\r\u001b[K     |█████████████████████████▊      | 71kB 7.7MB/s eta 0:00:01\r\u001b[K     |█████████████████████████████▍  | 81kB 8.4MB/s eta 0:00:01\r\u001b[K     |████████████████████████████████| 92kB 5.0MB/s \n",
            "\u001b[?25hInstalling collected packages: scikit-multilearn\n",
            "Successfully installed scikit-multilearn-0.2.0\n",
            "Collecting arff\n",
            "  Downloading https://files.pythonhosted.org/packages/50/de/62d4446c5a6e459052c2f2d9490c370ddb6abc0766547b4cef585913598d/arff-0.9.tar.gz\n",
            "Building wheels for collected packages: arff\n",
            "  Building wheel for arff (setup.py) ... \u001b[?25l\u001b[?25hdone\n",
            "  Created wheel for arff: filename=arff-0.9-cp37-none-any.whl size=4970 sha256=1e780bd9cd97a74117991e652f921e2c93707c5289bb41855514a44ba0f2aae9\n",
            "  Stored in directory: /root/.cache/pip/wheels/04/d0/70/2c73afedd3ac25c6085b528742c69b9587cbdfa67e5194583b\n",
            "Successfully built arff\n",
            "Installing collected packages: arff\n",
            "Successfully installed arff-0.9\n"
          ],
          "name": "stdout"
        }
      ]
    },
    {
      "cell_type": "code",
      "metadata": {
        "colab": {
          "base_uri": "https://localhost:8080/"
        },
        "id": "ZyeJWHNcJ4kw",
        "outputId": "9bfeb9ae-382b-4359-bf52-4d406081068a"
      },
      "source": [
        "from google.colab import drive\n",
        "drive.mount('/content/drive', force_remount=True)"
      ],
      "execution_count": null,
      "outputs": [
        {
          "output_type": "stream",
          "text": [
            "Mounted at /content/drive\n"
          ],
          "name": "stdout"
        }
      ]
    },
    {
      "cell_type": "code",
      "metadata": {
        "id": "xeoPEzr6iyK0"
      },
      "source": [
        "from skmultilearn.adapt import MLkNN\n",
        "import h5py\n",
        "import arff\n",
        "from itertools import islice\n",
        "import numpy as np \n",
        "import os\n",
        "from pathlib import Path\n",
        "from sklearn.preprocessing import StandardScaler\n",
        "from sklearn.neighbors import KDTree, BallTree\n",
        "from sklearn.model_selection import train_test_split\n",
        "from sklearn.model_selection import GridSearchCV\n",
        "from sklearn.metrics import mean_absolute_error, mean_squared_error\n",
        "from sklearn.metrics import jaccard_score\n",
        "import pickle\n",
        "from itertools import product\n",
        "import time\n",
        "from multiprocessing import Pool\n",
        "\n",
        "# model_path = \"/content/drive/MyDrive/Colab Notebooks/Metrics Learning/models\"\n",
        "model_path = \"metrics_learning\""
      ],
      "execution_count": null,
      "outputs": []
    },
    {
      "cell_type": "code",
      "metadata": {
        "colab": {
          "base_uri": "https://localhost:8080/"
        },
        "id": "I7-NvvwvKpDA",
        "outputId": "ad45a8eb-2c9a-4ade-9726-a12a5040e86b"
      },
      "source": [
        "from skmultilearn.dataset import available_data_sets\n",
        "from skmultilearn.dataset import load_dataset\n",
        "\n",
        "Xtrain, ytrain, feature_names, label_names = load_dataset('yeast', 'train')\n",
        "Xtest, ytest, feature_names, label_names = load_dataset('yeast', 'test')\n",
        "\n",
        "print(label_names)\n",
        "data_train = Xtrain.toarray()\n",
        "data_test = Xtest.toarray()\n",
        "\n",
        "labels_train = ytrain.toarray()\n",
        "labels_test = ytest.toarray()\n",
        "\n",
        "print(data_train.shape, type(data_train))\n",
        "print(data_test.shape, type(data_test))\n",
        "\n"
      ],
      "execution_count": null,
      "outputs": [
        {
          "output_type": "stream",
          "text": [
            "yeast:train - does not exists downloading\n",
            "Downloaded yeast-train\n",
            "yeast:test - does not exists downloading\n",
            "Downloaded yeast-test\n",
            "[('Class1', ['0', '1']), ('Class2', ['0', '1']), ('Class3', ['0', '1']), ('Class4', ['0', '1']), ('Class5', ['0', '1']), ('Class6', ['0', '1']), ('Class7', ['0', '1']), ('Class8', ['0', '1']), ('Class9', ['0', '1']), ('Class10', ['0', '1']), ('Class11', ['0', '1']), ('Class12', ['0', '1']), ('Class13', ['0', '1']), ('Class14', ['0', '1'])]\n",
            "(1500, 103) <class 'numpy.ndarray'>\n",
            "(917, 103) <class 'numpy.ndarray'>\n"
          ],
          "name": "stdout"
        }
      ]
    },
    {
      "cell_type": "code",
      "metadata": {
        "id": "nhyczq0dK9SM"
      },
      "source": [
        ""
      ],
      "execution_count": null,
      "outputs": []
    },
    {
      "cell_type": "code",
      "metadata": {
        "id": "vYoK5qZ_i73S"
      },
      "source": [
        "\n",
        "def saveLocal(obj, path): \n",
        "    allparents = []\n",
        "    p = os.path.dirname(path)\n",
        "    while p: \n",
        "        allparents.append(p)\n",
        "        p = os.path.dirname(p)\n",
        "        \n",
        "#     print(allparents)\n",
        "    for p in allparents[::-1]: \n",
        "        try: \n",
        "            os.mkdir(p)\n",
        "        except: \n",
        "            continue\n",
        "            \n",
        "    pickle.dump(obj, open(path, 'wb'))\n",
        "\n",
        "def loadPickle(key): \n",
        "    return pickle.load(open(key, 'rb'))\n",
        "\n",
        "def convertX(X, split): \n",
        "    global XIterPostScaler, iteration\n",
        "    GMAT = loadPickle('%s/iteration%d/GMAT.pkl'%(model_path, iteration))\n",
        "    X = np.dot(X, GMAT.T)\n",
        "    if split == \"save\": \n",
        "        XIterPostScaler = StandardScaler()\n",
        "        XIterPostScaler.fit(X)\n",
        "        key =  '%s/iteration%d/XIterPostScaler.pkl'%(model_path, iteration)\n",
        "        saveLocal(XIterPostScaler, key)\n",
        "    else: \n",
        "        key = '%s/iteration%d/XIterPostScaler.pkl'%(model_path, iteration)\n",
        "        XIterPostScaler = pickle.load(open(key, 'rb'))\n",
        "        \n",
        "    X = XIterPostScaler.transform(X)\n",
        "    return X\n"
      ],
      "execution_count": null,
      "outputs": []
    },
    {
      "cell_type": "code",
      "metadata": {
        "id": "-7w9a7H7jCJh"
      },
      "source": [
        "iteration = 0\n",
        "# arr = list((list(a) for a in arff.load('enron/yeast.arff')))\n",
        "# arr = np.array(arr).astype('float32')\n",
        "# data_train, data_test, labels_train, labels_test = train_test_split(arr[:, :-14], arr[:, -14:], test_size=0.20, random_state=42)\n",
        "\n",
        "# print(data_train.shape, data_test.shape, labels_train.shape, labels_test.shape)\n",
        "\n",
        "# saveLocal(data_train, 'data/data_train.pkl')\n",
        "# saveLocal(data_test, 'data/data_test.pkl')\n",
        "# saveLocal(labels_train, 'data/labels_train.pkl')\n",
        "# saveLocal(labels_test, 'data/labels_test.pkl')\n",
        "\n",
        "mu = 0\n",
        "num_features = data_train.shape[1]\n",
        "m_Dimensions = num_features\n",
        "sigma = 1/(m_Dimensions + num_features)\n",
        "\n",
        "GMAT = np.identity(num_features)# + np.random.normal(mu, sigma, (m_Dimensions, num_features))\n",
        "saveLocal(GMAT, '%s/iteration%d/GMAT.pkl'%(model_path, iteration))\n",
        "\n",
        "batch_size = 128\n",
        "num_features = data_train.shape[1]\n",
        "\n",
        "\n",
        "parameters = {'k': range(1,10), 's': [0.5, 0.7, 1.0]}\n",
        "# score = 'f1_macro'\n",
        "\n",
        "# clf = GridSearchCV(MLkNN(), parameters, scoring=score)\n",
        "# clf.fit(data_train, labels_train)\n",
        "\n",
        "# print (clf.best_params_, clf.best_score_)\n",
        "\n",
        "classifier = MLkNN(k=10, s = 0.5)\n",
        "classifier.fit(data_train, labels_train)\n",
        "mlknn_preds = classifier.predict(data_test).toarray()\n",
        "\n",
        "# print(labels_test.mean(0))\n",
        "# print(preds.mean(0))\n",
        "\n",
        "# print(np.sum(labels_test), np.sum(preds), preds.shape[0]*preds.shape[1])\n",
        "# print(\"logical or:\", np.sum(np.logical_or(labels_test, preds)))\n",
        "# print(\"logical xor:\", np.sum(np.logical_xor(labels_test, preds)))\n",
        "# print(\"logical and:\", np.sum(np.logical_and(labels_test, preds)))\n",
        "\n",
        "# logical_and = np.sum(np.logical_and(labels_test, preds))\n",
        "# logical_or  = np.sum(np.logical_or(labels_test, preds))\n",
        "\n",
        "# print(\"Accuracy of labels:\", logical_and/logical_or)"
      ],
      "execution_count": null,
      "outputs": []
    },
    {
      "cell_type": "code",
      "metadata": {
        "colab": {
          "base_uri": "https://localhost:8080/"
        },
        "id": "m41MRa-2Uhh_",
        "outputId": "6b7acb15-66b3-4bc9-8cfa-2e239577b090"
      },
      "source": [
        "\n",
        "def trainKDT(X): \n",
        "    global iteration\n",
        "#     X = getPickle('etan/PGP/DATA/%s/X%s.pkl'%(KNNDIR, str(i).zfill(2)))\n",
        "#     Xi = np.dot(X[BASES[i]:BASES[i+1], :], GMAT.T)\n",
        "    X = convertX(X, 'save')\n",
        "#     print(Xi.shape)\n",
        "    tree = KDTree(X)\n",
        "    key =  '%s/iteration%d/kdtree.pkl'%(model_path, iteration)\n",
        "#     savePickle(tree, key)\n",
        "    saveLocal(tree, key)\n",
        "    print(\"saved:\", key)\n",
        "    \n",
        "\n",
        "def saveKNN(X, split = \"train\"): \n",
        "    global iteration\n",
        "    K = 100\n",
        "    key =  '%s/iteration%d/kdtree.pkl'%(model_path, iteration)\n",
        "    KDT = loadPickle(key)\n",
        "    \n",
        "#     PIDS = getPickle('etan/PGP/DATA/%s/PIDS%s.pkl'%(\"KNN\", str(i).zfill(2))).ravel()\n",
        "    neighbors = np.zeros((X.shape[0], K)) - 1\n",
        "    distances = np.zeros((X.shape[0], K)) - 1\n",
        "    X = convertX(X, None)\n",
        "    dist, nl = KDT.query(X,100)\n",
        "    print(dist.shape, nl.shape)\n",
        "    saveLocal(dist, '%s/iteration%d/distances_%s.pkl'%(model_path, iteration, split))\n",
        "\n",
        "    saveLocal(nl, '%s/iteration%d/neighbors_%s.pkl'%(model_path, iteration, split))\n",
        "    \n",
        "trainKDT(data_train)\n",
        "saveKNN(data_train)\n",
        "saveKNN(data_test, split = \"test\")"
      ],
      "execution_count": null,
      "outputs": [
        {
          "output_type": "stream",
          "text": [
            "saved: metrics_learning/iteration0/kdtree.pkl\n",
            "(1500, 100) (1500, 100)\n",
            "(917, 100) (917, 100)\n"
          ],
          "name": "stdout"
        }
      ]
    },
    {
      "cell_type": "code",
      "metadata": {
        "colab": {
          "base_uri": "https://localhost:8080/"
        },
        "id": "94JviK3sWIlm",
        "outputId": "8586d2da-a97d-4391-a0d6-9a305e3519e1"
      },
      "source": [
        "def stepDist(tup): \n",
        "    xi, xj, yi, yj = tup\n",
        "    loss_score_list = np.array([1 - np.sum(np.logical_and(yi, yj))/len(yi),\n",
        "                          1 - np.sum(np.logical_or(yi, yj))/len(yi),\n",
        "                          np.sum(np.logical_xor(yi, yj))/len(yi)\n",
        "                        ])\n",
        "    return np.concatenate([xi, xj, loss_score_list])\n",
        "\n",
        "def genQuery(X, Y, neighbors, coordinates):\n",
        "    for v, w in coordinates: \n",
        "        if v == neighbors[v][w]: \n",
        "            continue\n",
        "        yield [X[v], X[neighbors[v][w]], Y[v], Y[neighbors[v][w]]]\n",
        "\n",
        "def saveDistanceData(X, Y):\n",
        "    global iteration\n",
        "    K = 100\n",
        "    N = min(1000000, X.shape[0]*K)\n",
        "    DistMat = np.zeros((N, 3 + 2*X.shape[1]))\n",
        "\n",
        "    neighbors = pickle.load(open('%s/iteration%d/neighbors_%s.pkl'%(model_path, iteration, 'train'), 'rb'))\n",
        "    coordinates = list(product(range(neighbors.shape[0]), range(neighbors.shape[1])))\n",
        "    np.random.shuffle(coordinates)\n",
        "    tuplist = islice(genQuery(X, Y, neighbors, coordinates), N)\n",
        "    t0 = time.time()\n",
        "    pool = Pool()\n",
        "    for j, row in enumerate(pool.imap(stepDist, tuplist)):\n",
        "        if row is None: \n",
        "            continue \n",
        "#             print(row)\n",
        "        DistMat[j] = row\n",
        "        if j%(N//5) == N//5 - 1: \n",
        "            t1 = time.time()\n",
        "            r = N - j - 1\n",
        "            print(\"Label Distance Time & ETA:\",  round((t1-t0)/60, 2),(r/N*((t1 - t0)/60)))\n",
        "\n",
        "    DistMat = DistMat[~np.all(DistMat == 0, axis=1)]\n",
        "    pool.close()\n",
        "    pool.join()\n",
        "#         print(JMAT[np.random.choice(JMAT.shape[0], 20), :])\n",
        "#     print(\"Label Distancew Mean:\", np.round(DistMat.mean(0),2))\n",
        "    key = '%s/iteration%d/label_distances.pkl'%(model_path, iteration) #'etan/PGP/DATA/%s/JMAT/Iter%d/JMAT%s.pkl'%(KNNDIR, iteration, str(i).zfill(2))\n",
        "    saveLocal(DistMat, key)\n",
        "    print(\"SAVED:\", DistMat.shape, key)\n",
        "    \n",
        "saveDistanceData(data_train, labels_train)"
      ],
      "execution_count": null,
      "outputs": [
        {
          "output_type": "stream",
          "text": [
            "Label Distance Time & ETA: 0.1 0.07876074473063152\n",
            "Label Distance Time & ETA: 0.2 0.11784132242202759\n",
            "Label Distance Time & ETA: 0.29 0.1178205140431722\n",
            "Label Distance Time & ETA: 0.39 0.07848560651143392\n",
            "SAVED: (148500, 209) metrics_learning/iteration0/label_distances.pkl\n"
          ],
          "name": "stdout"
        }
      ]
    },
    {
      "cell_type": "code",
      "metadata": {
        "colab": {
          "base_uri": "https://localhost:8080/"
        },
        "id": "n4QoAzJsV5w_",
        "outputId": "aca1878b-c741-47cb-961c-293c8df45d58"
      },
      "source": [
        "!pwd\n",
        "!ls\n",
        "!cp metrics_learning drive/MyDrive/COLAB/ --recursive\n",
        "# !sync drive/MyDrive/COLAB/metrics_learning metrics_learning"
      ],
      "execution_count": null,
      "outputs": [
        {
          "output_type": "stream",
          "text": [
            "/content\n",
            "drive  metrics_learning  sample_data\n"
          ],
          "name": "stdout"
        }
      ]
    },
    {
      "cell_type": "code",
      "metadata": {
        "colab": {
          "base_uri": "https://localhost:8080/"
        },
        "id": "6TQcEytLc8Nc",
        "outputId": "2b725cd0-3885-4f06-d699-ac63035859a6"
      },
      "source": [
        "def stepLoss(tup): \n",
        "    global num_features\n",
        "    G, J = tup\n",
        "    target_col = 2*num_features + 2\n",
        "    Ji = J[:, :num_features]\n",
        "    Jj = J[:, num_features:2*num_features]\n",
        "    JTi = np.dot(Ji, G.T)\n",
        "    JTj = np.dot(Jj, G.T)\n",
        "    YHAT = 0.5*np.sum(np.power(JTi - JTj, 2), axis = 1).ravel()\n",
        "    Y = J[:, target_col].ravel()\n",
        "    loss = np.sum(np.power(Y - YHAT, 2))\n",
        "    return loss\n",
        "\n",
        "def runBatch(G, J_Batch, means, variances, batch_num):\n",
        "    global num_features\n",
        "    target_col = 2*num_features + 2\n",
        "    Ji = J_Batch[:, :num_features]\n",
        "    Jj = J_Batch[:, num_features:2*num_features]\n",
        "#     print(Ji.mean(0), Jj.mean(0))\n",
        "    JTi = np.dot(Ji, G.T)\n",
        "    JTj = np.dot(Jj, G.T)\n",
        "    \n",
        "#     print(JTi.mean(1), JTj.mean(1))\n",
        "#     print(\"JTi^2:\", np.power(JTi, 2).shape)\n",
        "    Jsum = np.power(JTi, 2) + np.power(JTj, 2)\n",
        "#     print(\"JTi^2 + JTi^2:\", Jsum.shape)\n",
        "#     print(\"10 lines of J_batch:\", J_Batch[:10])\n",
        "#     YHAT = 0.5*np.sum(np.power(JTi - JTj, 2)/Jsum, axis = 1)\n",
        "    YHAT = 0.5*np.sum(np.power(JTi - JTj, 2), axis = 1)\n",
        "\n",
        "#     print(np.power(JTi - JTj, 2)[0], Jsum[0], (np.power(JTi - JTj, 2)/Jsum)[0])\n",
        "    Y = J_Batch[:, target_col].ravel()\n",
        "    batchloss = np.sum(np.power(Y - YHAT, 2))\n",
        "    diff = np.repeat(2*(YHAT - Y).reshape(-1, 1), JTi.shape[1], axis = 1)\n",
        "#     print(diff)\n",
        "#     print((Ji - Jj).shape, JTi.shape, JTj.shape, (JTi.T - JTj.T).shape)\n",
        "#     print(\"diff:\", diff)\n",
        "    grad = np.dot(diff.T*(JTi.T - JTj.T), Ji - Jj)\n",
        "    means = means * 0.9 + grad * 0.1\n",
        "    variances = variances * 0.999 + grad * grad * 0.001\n",
        "    lr = 0.0001 * (np.sqrt(1.0 - np.power(0.999, batch_num+1)) / (1.0 - np.power(0.9, batch_num+1)))\n",
        "    G -= lr * means / np.sqrt(variances + 1.0e-8)\n",
        "#     if batch_num%99999==0:\n",
        "#         print(\"Batch & loss:\", batch_num, batchloss)\n",
        "#         print(\"G:\", np.round(G, 1))\n",
        "# #         print(\"Batch Mean:\", J_Batch.mean(0), J_Batch.min(0), J_Batch.max(0))\n",
        "# #         print(np.round(G, 1))\n",
        "    return (G, batchloss)\n",
        "\n",
        "def stepMatrixBatch(G):\n",
        "    global batch_size, iteration\n",
        "    G = G.copy()\n",
        "#     G = GMAT if GMAT_LIST[seed] is None else GMAT_LIST[seed]\n",
        "#     np.random.seed(seed)\n",
        "#     idx = np.random.choice(JARR.shape[0], int(1*JARR.shape[0]), replace=False)\n",
        "    key = '%s/iteration%d/label_distances.pkl'%(model_path, iteration)\n",
        "    DistMat = pickle.load(open(key, 'rb'))\n",
        "    indexes = list(range(DistMat.shape[0]))\n",
        "#     print(\"JARR shape:\", JARR.shape)\n",
        "    idxlist = [indexes[batch_size*i:batch_size*(i+1)] for i in range(0, len(indexes)//batch_size)]\n",
        "#     JARR = JARR[idx, :]\n",
        "#     print(JARR.shape)\n",
        "#     G = G + np.random.normal(mu, sigma, (m_Dimensions, numFeatures)) if GMAT_STEP[seed]==0 else G\n",
        "#     print(\"initial GMAT:\", np.round(G, 2))\n",
        "    # print(G.mean(0), G.std(0))\n",
        "    means = np.zeros(G.shape)\n",
        "    variances = np.zeros(G.shape)\n",
        "#     iFeatures = np.zeros((numFeatures, 1))\n",
        "#     jFeatures = np.zeros((numFeatures, 1))\n",
        "    num_updates = 1000\n",
        "    loss = np.inf\n",
        "\n",
        "\n",
        "    numbad = 0 \n",
        "    \n",
        "    minloss = np.inf\n",
        "    maxloss = -np.inf\n",
        "#     print(\"Number of batches:\", len(idxlist))\n",
        "    epochs = 0\n",
        "    while numbad<5:\n",
        "        epochs += 1\n",
        "        newloss = 0\n",
        "#         print(\"epoch, G:\", epochs, np.round(G, 1))\n",
        "        for num, batch_idx in enumerate(idxlist): \n",
        "            \n",
        "            (G, batch_loss) = runBatch(G, DistMat[batch_idx, :], means, variances, num)\n",
        "            newloss += batch_loss\n",
        "#             if num%(len(idxlist)//5 - 1) == 0:\n",
        "# #                 print(\"progress & cumulative loss:\", 100*num//len(idxlist), newloss)\n",
        "#                 print(\"total loss:\", stepLoss((G, DistMat)))\n",
        "                \n",
        "            \n",
        "        \n",
        "        if(newloss < 0.999*loss ): \n",
        "            loss = newloss \n",
        "            numbad = 0\n",
        "        else: \n",
        "            numbad += 1 \n",
        "        \n",
        "        print(\"epoch, loss, count down:\", epochs, newloss, numbad)\n",
        "#         print(numbad)\n",
        "#         minloss = min(minloss, loss)\n",
        "#         maxloss = max(maxloss, loss)\n",
        "        \n",
        "#         if np.random.random()<0.0001:\n",
        "#             print(\"seed, epochs, min, max:\", seed, GMAT_STEP[seed], epochs, minloss, maxloss)\n",
        "    saveLocal(G, '%s/iteration%d/GMAT.pkl'%(model_path, iteration+1))\n",
        "#     saveLocal(G, 'etan/PGP/DATA/%s/GMAT/Iter%d/GLOSS%s.pkl'%(KNNDIR, iteration, str(seed).zfill(2)))\n",
        "    return (G, loss)\n",
        "\n",
        "G, loss = stepMatrixBatch(GMAT)"
      ],
      "execution_count": null,
      "outputs": [
        {
          "output_type": "stream",
          "text": [
            "epoch, loss, count down: 1 7260.369193720384 0\n",
            "epoch, loss, count down: 2 3285.4929323351485 0\n",
            "epoch, loss, count down: 3 3056.684642511612 0\n",
            "epoch, loss, count down: 4 2961.4048748010455 0\n",
            "epoch, loss, count down: 5 2909.7742426897116 0\n",
            "epoch, loss, count down: 6 2877.858450228464 0\n",
            "epoch, loss, count down: 7 2856.501416244038 0\n",
            "epoch, loss, count down: 8 2841.44113110179 0\n",
            "epoch, loss, count down: 9 2830.4368337525048 0\n",
            "epoch, loss, count down: 10 2822.1500245882708 0\n",
            "epoch, loss, count down: 11 2815.7985397505845 0\n",
            "epoch, loss, count down: 12 2810.873246212679 0\n",
            "epoch, loss, count down: 13 2807.0056836730882 0\n",
            "epoch, loss, count down: 14 2803.95084832796 0\n",
            "epoch, loss, count down: 15 2801.5153884178435 1\n",
            "epoch, loss, count down: 16 2799.5393433665263 0\n",
            "epoch, loss, count down: 17 2797.9138755225654 1\n",
            "epoch, loss, count down: 18 2796.5726330652483 0\n",
            "epoch, loss, count down: 19 2795.4715004363943 1\n",
            "epoch, loss, count down: 20 2794.564775368801 2\n",
            "epoch, loss, count down: 21 2793.8284123389453 3\n",
            "epoch, loss, count down: 22 2793.2425165569266 0\n",
            "epoch, loss, count down: 23 2792.7750522673173 1\n",
            "epoch, loss, count down: 24 2792.3954423920086 2\n",
            "epoch, loss, count down: 25 2792.083978246462 3\n",
            "epoch, loss, count down: 26 2791.8365274732455 4\n",
            "epoch, loss, count down: 27 2791.642533638166 5\n"
          ],
          "name": "stdout"
        }
      ]
    },
    {
      "cell_type": "code",
      "metadata": {
        "colab": {
          "base_uri": "https://localhost:8080/"
        },
        "id": "nbPzaEonIE11",
        "outputId": "8bf0af90-30e1-416c-87f1-d0b2179df188"
      },
      "source": [
        "# GMat = loadPickle('%s/iteration%d/GMAT.pkl'%(model_path, iteration))\n",
        "DMat = loadPickle('%s/iteration%d/distances_%s.pkl'%(model_path, iteration, \"test\"))\n",
        "NMat = loadPickle('%s/iteration%d/neighbors_%s.pkl'%(model_path, iteration, \"test\"))\n",
        "\n",
        "print(DMat.mean(0))"
      ],
      "execution_count": null,
      "outputs": [
        {
          "output_type": "stream",
          "text": [
            "[ 8.93091884  9.43249942  9.68197669  9.85241543  9.98586617 10.09793873\n",
            " 10.19340776 10.27631637 10.34345419 10.40626163 10.46835691 10.52298326\n",
            " 10.57518468 10.61800531 10.66159446 10.70340975 10.74233878 10.77987942\n",
            " 10.81426609 10.84907106 10.88069786 10.91086661 10.94062098 10.96935669\n",
            " 10.9968394  11.02234434 11.04864759 11.07380157 11.10029027 11.1238514\n",
            " 11.14699413 11.16905541 11.18879644 11.21024943 11.2303664  11.25074101\n",
            " 11.26978818 11.28927681 11.3090288  11.32906648 11.34737461 11.36548305\n",
            " 11.38347981 11.40136424 11.41790169 11.4350235  11.45250397 11.46933198\n",
            " 11.48582351 11.50208015 11.51854551 11.53462353 11.55111776 11.56651923\n",
            " 11.58177389 11.59630781 11.6115171  11.62601914 11.64024606 11.65497585\n",
            " 11.66860707 11.68256809 11.6965294  11.71008745 11.72347075 11.73665072\n",
            " 11.74980419 11.76279797 11.77615923 11.7888581  11.80137342 11.81412395\n",
            " 11.82664611 11.83997046 11.85156227 11.86275993 11.87457331 11.88631994\n",
            " 11.89843751 11.91010901 11.92155283 11.93371873 11.94442683 11.95611432\n",
            " 11.96723794 11.97808341 11.9882872  11.99880765 12.00977463 12.02029302\n",
            " 12.0315197  12.04220005 12.05254661 12.06245571 12.07279994 12.08323205\n",
            " 12.09361796 12.10310361 12.11241924 12.12229543]\n"
          ],
          "name": "stdout"
        }
      ]
    },
    {
      "cell_type": "code",
      "metadata": {
        "id": "dhuUemc-ddin"
      },
      "source": [
        "def predict(nn = 10):\n",
        "    global iteration, labels_test, labels_train, DMat, NMat, model_path\n",
        "    # print(DMat.shape, DMat[:3])\n",
        "    # print(NMat.shape, NMat[:3])\n",
        "    labels_pred = np.full(labels_test.shape, -1.)\n",
        "    for i in range(labels_test.shape[0]): \n",
        "      nl = NMat[i][:nn]\n",
        "      dl = DMat[i][:nn]\n",
        "      wl = 1/(dl+0.001)**2\n",
        "      wl /= sum(wl)\n",
        "      # print(wl)\n",
        "      sub_labs = labels_train[nl,:]\n",
        "      # if np.random.random()<0.02:\n",
        "      #   # print(sub_labs.mean(0), wl)\n",
        "      #   print(np.dot(wl.reshape(1, -1), sub_labs))\n",
        "      labels_pred[i,:] = np.round(np.dot(wl.reshape(1, -1), sub_labs).ravel())\n",
        "    \n",
        "    # print(labels_pred.mean(0), '\\n', labels_test.mean(0))\n",
        "    key =  '%s/iteration%d/labels_pred.pkl'%(model_path, iteration)\n",
        "    saveLocal(labels_pred, key)\n",
        "    met1 = np.sum(np.logical_and(labels_test, labels_pred))/(np.sum(np.logical_or(labels_test, labels_pred)))\n",
        "    met2 = np.sum(np.logical_and(labels_test, labels_pred))/(np.sum(labels_test))\n",
        "    jac = jaccard_score(labels_test, labels_pred, average='micro')\n",
        "    print(\"NN & Prediction MAE:\", nn, mean_absolute_error(labels_pred, labels_test))\n",
        "    print(\"Prediction ~XOR:\", \n",
        "          met1,\n",
        "          met2, \n",
        "          jac\n",
        "          )\n",
        "    # print(\"Zero MAE:\", mean_absolute_error(np.zeros(labels_pred.shape), labels_test))\n",
        "    # print(\"One MAE:\", mean_absolute_error(np.ones(labels_pred.shape), labels_test))\n",
        "    return (met1, met2, jac)\n",
        "\n",
        "# predict(11)"
      ],
      "execution_count": null,
      "outputs": []
    },
    {
      "cell_type": "code",
      "metadata": {
        "colab": {
          "base_uri": "https://localhost:8080/"
        },
        "id": "CugiJM-AcO70",
        "outputId": "f98477e1-40af-4cab-b2da-3ace2d4528ac"
      },
      "source": [
        "met1list = []\n",
        "met2list = []\n",
        "jaclist = []\n",
        "for iteration in range(0, 5): \n",
        "  # trainKDT(data_train)\n",
        "  # saveKNN(data_train)\n",
        "  # saveKNN(data_test, split = \"test\")\n",
        "  # saveDistanceData(data_train, labels_train)\n",
        "  # G, loss = stepMatrixBatch(GMAT)\n",
        "\n",
        "  DMat = loadPickle('%s/iteration%d/distances_%s.pkl'%(model_path, iteration, \"test\"))\n",
        "  NMat = loadPickle('%s/iteration%d/neighbors_%s.pkl'%(model_path, iteration, \"test\"))\n",
        "\n",
        "  met1, met2, jac = predict(11)\n",
        "  jaclist.append(jac)\n",
        "  met1list.append(met1)\n",
        "  met2list.append(met2)"
      ],
      "execution_count": null,
      "outputs": [
        {
          "output_type": "stream",
          "text": [
            "NN & Prediction MAE: 11 0.19987536999532637\n",
            "Prediction ~XOR: 0.4706003713637301 0.5850218004616569 0.4706003713637301\n",
            "NN & Prediction MAE: 11 0.1969933011372488\n",
            "Prediction ~XOR: 0.48377219840783836 0.6078481661964606 0.48377219840783836\n",
            "NN & Prediction MAE: 11 0.1955133198317495\n",
            "Prediction ~XOR: 0.4897336857084773 0.6178507309566555 0.4897336857084773\n",
            "NN & Prediction MAE: 11 0.19909643246611622\n",
            "Prediction ~XOR: 0.4834276475343573 0.6134906386252885 0.4834276475343573\n",
            "NN & Prediction MAE: 11 0.19691540738432775\n",
            "Prediction ~XOR: 0.4885696945174995 0.6193895870736086 0.4885696945174995\n"
          ],
          "name": "stdout"
        }
      ]
    },
    {
      "cell_type": "code",
      "metadata": {
        "colab": {
          "base_uri": "https://localhost:8080/"
        },
        "id": "oNXN34Ix5yX7",
        "outputId": "65b7e5b7-8e2a-486d-ed41-983ce3c638ff"
      },
      "source": [
        "mlknn_met1 = np.sum(np.logical_and(labels_test, mlknn_preds))/(np.sum(np.logical_or(labels_test, mlknn_preds)))\n",
        "mlknn_met2 = np.sum(np.logical_and(labels_test, mlknn_preds))/(np.sum(labels_test))\n",
        "mlknn_jac = jaccard_score(labels_test, mlknn_preds, average='micro')\n",
        "print(\"MLKNN Prediction MAE:\", mean_absolute_error(mlknn_preds, labels_test))\n",
        "print(\"mlknn Met1 and met2:\", mlknn_met1, mlknn_met2, mlknn_jac)\n"
      ],
      "execution_count": null,
      "outputs": [
        {
          "output_type": "stream",
          "text": [
            "MLKNN Prediction MAE: 0.2092226203458482\n",
            "mlknn Met1 and met2: 0.44435250310302027 0.5509104898691972 0.44435250310302027\n"
          ],
          "name": "stdout"
        }
      ]
    },
    {
      "cell_type": "code",
      "metadata": {
        "id": "NzcHHXq47wx_"
      },
      "source": [
        "from matplotlib import pylab as plt   "
      ],
      "execution_count": null,
      "outputs": []
    },
    {
      "cell_type": "code",
      "metadata": {
        "colab": {
          "base_uri": "https://localhost:8080/",
          "height": 280
        },
        "id": "zhPFRhvT-Thi",
        "outputId": "07b700e4-c058-4226-c1dc-06e9b8f5b24c"
      },
      "source": [
        "plt.figure()\n",
        "# plt.plot(met1list)\n",
        "plt.plot(met2list)\n",
        "plt.plot(jaclist)\n",
        "# plt.hlines(y=[mlknn_met1], xmin = 0, xmax = 4, colors=['blue'], linestyles=['--'])\n",
        "plt.hlines(y=[mlknn_met2], xmin = 0, xmax = 4, colors=['blue'], linestyles=['-.'])\n",
        "plt.hlines(y=[mlknn_jac], xmin = 0, xmax = 4, colors=['orange'], linestyles=['--'])\n",
        "\n",
        "plt.legend(['predicted labels', 'Jaccard score','MLKNN predicted', 'MLKNN Jaccard'], loc = 'best')\n",
        "plt.ylabel('metrics in percent')\n",
        "plt.xlabel('iterations')\n",
        "plt.show()"
      ],
      "execution_count": null,
      "outputs": [
        {
          "output_type": "display_data",
          "data": {
            "image/png": "[encoded data removed]",
            "text/plain": [
              "<Figure size 432x288 with 1 Axes>"
            ]
          },
          "metadata": {
            "tags": [],
            "needs_background": "light"
          }
        }
      ]
    },
    {
      "cell_type": "code",
      "metadata": {
        "id": "wIb9UhT---1g"
      },
      "source": [
        ""
      ],
      "execution_count": null,
      "outputs": []
    }
  ]
}